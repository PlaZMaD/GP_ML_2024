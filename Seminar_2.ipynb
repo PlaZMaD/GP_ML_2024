{
  "nbformat": 4,
  "nbformat_minor": 0,
  "metadata": {
    "colab": {
      "provenance": [],
      "toc_visible": true,
      "authorship_tag": "ABX9TyN/QBmbIDSw6+Widz+CLdDR",
      "include_colab_link": true
    },
    "kernelspec": {
      "name": "python3",
      "display_name": "Python 3"
    },
    "language_info": {
      "name": "python"
    }
  },
  "cells": [
    {
      "cell_type": "markdown",
      "metadata": {
        "id": "view-in-github",
        "colab_type": "text"
      },
      "source": [
        "<a href=\"https://colab.research.google.com/github/PlaZMaD/GP_ML_2025/blob/main/Seminar_2.ipynb\" target=\"_parent\"><img src=\"https://colab.research.google.com/assets/colab-badge.svg\" alt=\"Open In Colab\"/></a>"
      ]
    },
    {
      "cell_type": "markdown",
      "metadata": {
        "id": "n_nitmHugcSH"
      },
      "source": [
        "# Welcome"
      ]
    },
    {
      "cell_type": "markdown",
      "metadata": {
        "id": "pfojW1Laghph"
      },
      "source": [
        "На практических занятиях курса мы будем использовать [язык программирования Python](https://www.python.org) в [среде Google Colab](https://colab.research.google.com). В качестве альтернативы вы можете загрузить какой-нибудь другой дистрибутив python, например [anaconda](https://www.anaconda.com/) и запустить jupyter локально (см. [docs](https://jupyter.readthedocs.io/en/latest/running.html))."
      ]
    },
    {
      "cell_type": "code",
      "execution_count": null,
      "metadata": {
        "id": "WAa6UFGdwp2z"
      },
      "outputs": [],
      "source": [
        "!python --version"
      ]
    },
    {
      "cell_type": "markdown",
      "metadata": {
        "id": "rCkInromwobd"
      },
      "source": [
        "Если вы новичок в Python, пожалуйста, ознакомьтесь со следующим руководством:\n",
        " - https://docs.python.org/3.7/tutorial/\n",
        "\n",
        "В частности, следующие части должны дать более или менее полное представление об основах, которые необходимо знать:\n",
        "   - https://docs.python.org/3.7/tutorial/introduction.html\n",
        "   - https://docs.python.org/3.7/tutorial/controlflow.html\n",
        "   - https://docs.python.org/3.7/tutorial/datastructures.html\n",
        "   - https://docs.python.org/3.7/tutorial/modules.html\n",
        "   - https://docs.python.org/3.7/tutorial/classes.html\n",
        "\n",
        "Не забывайте соблюдать [PEP-8](https://peps.python.org/pep-0008/). Вы также можете ознакомиться с другими [руководствами по стилю](https://google.github.io/styleguide/pyguide.html)."
      ]
    },
    {
      "cell_type": "markdown",
      "metadata": {
        "id": "wNKpO_suinc-"
      },
      "source": [
        "Обзор основных возможностей среды Google Colab можно найти в  [разделе](https://colab.research.google.com/notebooks/basic_features_overview.ipynb)."
      ]
    },
    {
      "cell_type": "markdown",
      "source": [
        "# Еще чуть-чуть Python'а\n",
        "##Генераторы:\n",
        "Генератор — это объект, который сразу при создании не вычисляет значения всех своих элементов.\n",
        "Он хранит в памяти только последний вычисленный элемент, правило перехода к следующему и условие, при котором выполнение прерывается.\n",
        "Доступ к объектам выполняется итеративно. Аналогичными интерфейсом доступа обладают практически все контейнеры.\n",
        "Полезно уметь использовать это для модификации/создания контейнеров."
      ],
      "metadata": {
        "id": "fSFgQI_aW__l"
      }
    },
    {
      "cell_type": "code",
      "source": [
        "a = range(5)\n",
        "print(a)\n",
        "for i in a:\n",
        "  print (i)"
      ],
      "metadata": {
        "id": "Ke-YfdSMWm-0"
      },
      "execution_count": null,
      "outputs": []
    },
    {
      "cell_type": "code",
      "source": [
        "b = [i for i in a]\n",
        "c = [i**2 for i in a if i%2==0]\n",
        "d = {i:f\"Квадратом числа {i} является {i**2}\" for i in c}\n",
        "print(\"b: \", b)\n",
        "print(\"c: \", c)\n",
        "print(\"d: \", d)"
      ],
      "metadata": {
        "id": "ZRZk6FKTXlYx"
      },
      "execution_count": null,
      "outputs": []
    },
    {
      "cell_type": "markdown",
      "source": [
        "## Чуть-чуть о классах в Python\n",
        "До этого мы работали только с готовыми типами объектов, но можно создавать и свои!"
      ],
      "metadata": {
        "id": "awwDNjj6ZkTw"
      }
    },
    {
      "cell_type": "code",
      "source": [
        "class dog:\n",
        "  legs = 4\n",
        "  def __init__(self, name, age):\n",
        "      self.name = name\n",
        "      self.age = age\n",
        "  def speak(self):\n",
        "    print(\"Ауф!\")"
      ],
      "metadata": {
        "id": "XLjx7ANrZusR"
      },
      "execution_count": null,
      "outputs": []
    },
    {
      "cell_type": "code",
      "source": [
        "Nemo = dog('Nemo', 6)\n",
        "print(Nemo.name)\n",
        "print(Nemo.age)\n",
        "Nemo.speak()\n",
        "\n",
        "Muhtar = dog('Muhtar', 10)\n",
        "print(Muhtar.name)\n",
        "print(Muhtar.legs)"
      ],
      "metadata": {
        "id": "6_Wc6J06aXRO"
      },
      "execution_count": null,
      "outputs": []
    },
    {
      "cell_type": "code",
      "source": [
        "Muhtar.legs = 3\n",
        "print(Muhtar.legs)\n",
        "print(Nemo.legs)"
      ],
      "metadata": {
        "id": "RPHQrnUKc2n-"
      },
      "execution_count": null,
      "outputs": []
    },
    {
      "cell_type": "code",
      "source": [
        "dog.legs = 2\n",
        "print(Muhtar.legs)\n",
        "print(Nemo.legs)"
      ],
      "metadata": {
        "id": "xlfb4p3oc8AD"
      },
      "execution_count": null,
      "outputs": []
    },
    {
      "cell_type": "markdown",
      "metadata": {
        "id": "z1zQH7FbVmGv"
      },
      "source": [
        "# Numpy and vectorized computing"
      ]
    },
    {
      "cell_type": "markdown",
      "metadata": {
        "id": "4apZ9NiCVmGv"
      },
      "source": [
        "Почти любая модель машинного обучения требует определенных вычислительных усилий, обычно связанных с решением задач линейной алгебры. К сожалению, сырой python ужасен в этом, поскольку каждая операция выполняется интерпретатором  во время запуска кода."
      ]
    },
    {
      "cell_type": "markdown",
      "metadata": {
        "id": "xEGU_6SdVmGw"
      },
      "source": [
        "Поэтому вместо этого мы воспользуемся numpy - библиотекой, позволяющей выполнять молниеносные вычисления с векторами, матрицами и другими тензорами. Основным объектом здесь является numpy.ndarray:"
      ]
    },
    {
      "cell_type": "markdown",
      "metadata": {
        "id": "3ob_9w3CVmGw"
      },
      "source": [
        "**please keep running all the code cells as you read**"
      ]
    },
    {
      "cell_type": "code",
      "execution_count": null,
      "metadata": {
        "execution": {
          "iopub.execute_input": "2024-03-01T09:03:04.818971Z",
          "iopub.status.busy": "2024-03-01T09:03:04.818330Z",
          "iopub.status.idle": "2024-03-01T09:03:04.845452Z",
          "shell.execute_reply": "2024-03-01T09:03:04.844824Z",
          "shell.execute_reply.started": "2024-03-01T09:03:04.818934Z"
        },
        "tags": [],
        "id": "m7hFhkmaVmGw"
      },
      "outputs": [],
      "source": [
        "import numpy as np\n",
        "\n",
        "a = np.array([1,2,3,4,5])\n",
        "b = np.array([5,4,3,2,1])\n",
        "print(\"a = \", a)\n",
        "print(\"b = \", b)\n",
        "\n",
        "# math and boolean operations can applied to each element of an array\n",
        "print(\"a + 1 =\", a + 1)\n",
        "print(\"a * 2 =\", a * 2)\n",
        "print(\"a == 2\", a == 2)\n",
        "# ... or corresponding elements of two (or more) arrays\n",
        "print(\"a + b =\", a + b)\n",
        "print(\"a * b =\", a * b)"
      ]
    },
    {
      "cell_type": "code",
      "execution_count": null,
      "metadata": {
        "execution": {
          "iopub.execute_input": "2024-02-29T06:08:25.171807Z",
          "iopub.status.busy": "2024-02-29T06:08:25.170876Z",
          "iopub.status.idle": "2024-02-29T06:08:25.189806Z",
          "shell.execute_reply": "2024-02-29T06:08:25.188883Z",
          "shell.execute_reply.started": "2024-02-29T06:08:25.171757Z"
        },
        "nbgrader": {
          "cell_type": "code",
          "checksum": "c64125b5b6b22aff3dcbfcc9404f4f3f",
          "grade": false,
          "grade_id": "cell-c8488cc1b2d24a07",
          "locked": false,
          "schema_version": 3,
          "solution": true,
          "task": false
        },
        "id": "wdyjHD-pVmGx"
      },
      "outputs": [],
      "source": [
        "# Your turn: compute half-products of a and b elements (halves of products)\n",
        "\n",
        "def half_product(a, b):\n",
        "    # your code here\n",
        "    raise NotImplementedError"
      ]
    },
    {
      "cell_type": "markdown",
      "metadata": {
        "id": "dvInj-s7VmGx"
      },
      "source": [
        "Убедитесь, что автоматические проверки пройдены!\n"
      ]
    },
    {
      "cell_type": "code",
      "execution_count": null,
      "metadata": {
        "editable": false,
        "execution": {
          "iopub.execute_input": "2024-02-29T06:08:25.298296Z",
          "iopub.status.busy": "2024-02-29T06:08:25.297299Z",
          "iopub.status.idle": "2024-02-29T06:08:25.365049Z",
          "shell.execute_reply": "2024-02-29T06:08:25.364197Z",
          "shell.execute_reply.started": "2024-02-29T06:08:25.298253Z"
        },
        "nbgrader": {
          "cell_type": "code",
          "checksum": "4c9c691d1432f3b31a4b428f79d6c903",
          "grade": true,
          "grade_id": "HalfProduct",
          "locked": true,
          "points": 1,
          "schema_version": 3,
          "solution": false,
          "task": false
        },
        "id": "WQra9U9JVmGx"
      },
      "outputs": [],
      "source": [
        "np.testing.assert_almost_equal(\n",
        "    half_product(\n",
        "        np.array([ 1.3549439 , -1.69765972,  0.32111273, -0.2703243 , -0.38928596]),\n",
        "        np.array([-1.50693732,  0.69443195,  0.90948151,  1.1717395 ,  1.4069652 ])\n",
        "    ),\n",
        "    np.array([-1.02090776, -0.58945457,  0.14602305, -0.15837483, -0.2738559 ])\n",
        ")\n",
        "\n",
        "print(\"a =\", a)\n",
        "print(\"b =\", b)\n",
        "print(\"a * b / 2 = \", half_product(a, b))"
      ]
    },
    {
      "cell_type": "code",
      "execution_count": null,
      "metadata": {
        "execution": {
          "iopub.execute_input": "2024-02-29T06:08:25.433470Z",
          "iopub.status.busy": "2024-02-29T06:08:25.432673Z",
          "iopub.status.idle": "2024-02-29T06:08:25.452972Z",
          "shell.execute_reply": "2024-02-29T06:08:25.451981Z",
          "shell.execute_reply.started": "2024-02-29T06:08:25.433429Z"
        },
        "nbgrader": {
          "cell_type": "code",
          "checksum": "3acedf658b5c33b0eead6ad274dffb8d",
          "grade": false,
          "grade_id": "cell-68ccf91f62d2ac06",
          "locked": false,
          "schema_version": 3,
          "solution": true,
          "task": false
        },
        "id": "oqg3xmWEVmGx"
      },
      "outputs": [],
      "source": [
        "# compute elementwise quotient between squared a and (b plus 1), return the result\n",
        "\n",
        "def a_squared_over_b_plus_1(a, b):\n",
        "    # your code here\n",
        "    raise NotImplementedError"
      ]
    },
    {
      "cell_type": "markdown",
      "metadata": {
        "id": "MD1-PYbaVmGy"
      },
      "source": [
        "Убедитесь, что автоматические проверки пройдены!"
      ]
    },
    {
      "cell_type": "code",
      "execution_count": null,
      "metadata": {
        "editable": false,
        "execution": {
          "iopub.execute_input": "2024-02-29T06:08:25.548008Z",
          "iopub.status.busy": "2024-02-29T06:08:25.547268Z",
          "iopub.status.idle": "2024-02-29T06:08:25.565792Z",
          "shell.execute_reply": "2024-02-29T06:08:25.565046Z",
          "shell.execute_reply.started": "2024-02-29T06:08:25.547966Z"
        },
        "nbgrader": {
          "cell_type": "code",
          "checksum": "9245b661e7e60032868f6c8f9d360635",
          "grade": true,
          "grade_id": "ASquaredOverBPlus1",
          "locked": true,
          "points": 1,
          "schema_version": 3,
          "solution": false,
          "task": false
        },
        "id": "uShW9ouPVmGy"
      },
      "outputs": [],
      "source": [
        "np.testing.assert_almost_equal(\n",
        "    a_squared_over_b_plus_1(\n",
        "        np.array([ 1.3549439 , -1.69765972,  0.32111273, -0.2703243 , -0.38928596]),\n",
        "        np.array([-1.50693732,  0.69443195,  0.90948151,  1.1717395 ,  1.4069652 ])\n",
        "    ),\n",
        "    np.array([-3.62149895,  1.70089364,  0.05400072,  0.03364825,  0.06296043])\n",
        ")\n",
        "\n",
        "print(\"a = \", a)\n",
        "print(\"b = \", b)\n",
        "print(\"a**2 / (b + 1)\", a_squared_over_b_plus_1(a, b))"
      ]
    },
    {
      "cell_type": "markdown",
      "metadata": {
        "id": "DeY8C2qVVmGy"
      },
      "source": [
        "---------"
      ]
    },
    {
      "cell_type": "markdown",
      "metadata": {
        "id": "N98VDH5pVmGy"
      },
      "source": [
        "Существует множество функций для создания массивов нулей, единиц, возрастающих чисел и т.д.:"
      ]
    },
    {
      "cell_type": "code",
      "execution_count": null,
      "metadata": {
        "execution": {
          "iopub.execute_input": "2024-02-29T06:08:25.673622Z",
          "iopub.status.busy": "2024-02-29T06:08:25.672923Z",
          "iopub.status.idle": "2024-02-29T06:08:25.696717Z",
          "shell.execute_reply": "2024-02-29T06:08:25.695907Z",
          "shell.execute_reply.started": "2024-02-29T06:08:25.673583Z"
        },
        "id": "wOd7PGD6VmGy"
      },
      "outputs": [],
      "source": [
        "np.zeros(shape=(3, 4))"
      ]
    },
    {
      "cell_type": "code",
      "execution_count": null,
      "metadata": {
        "execution": {
          "iopub.execute_input": "2024-02-29T06:08:25.824493Z",
          "iopub.status.busy": "2024-02-29T06:08:25.823850Z",
          "iopub.status.idle": "2024-02-29T06:08:25.850309Z",
          "shell.execute_reply": "2024-02-29T06:08:25.849635Z",
          "shell.execute_reply.started": "2024-02-29T06:08:25.824451Z"
        },
        "id": "NZSia_7qVmGz"
      },
      "outputs": [],
      "source": [
        "np.ones(shape=(2, 5))"
      ]
    },
    {
      "cell_type": "code",
      "execution_count": null,
      "metadata": {
        "execution": {
          "iopub.execute_input": "2024-02-29T06:08:25.937421Z",
          "iopub.status.busy": "2024-02-29T06:08:25.936699Z",
          "iopub.status.idle": "2024-02-29T06:08:25.954592Z",
          "shell.execute_reply": "2024-02-29T06:08:25.953781Z",
          "shell.execute_reply.started": "2024-02-29T06:08:25.937385Z"
        },
        "id": "00oJltApVmGz"
      },
      "outputs": [],
      "source": [
        "np.arange(3, 15, 2.5) # start, stop, step"
      ]
    },
    {
      "cell_type": "code",
      "execution_count": null,
      "metadata": {
        "execution": {
          "iopub.execute_input": "2024-02-29T06:08:26.062286Z",
          "iopub.status.busy": "2024-02-29T06:08:26.061416Z",
          "iopub.status.idle": "2024-02-29T06:08:26.097199Z",
          "shell.execute_reply": "2024-02-29T06:08:26.096441Z",
          "shell.execute_reply.started": "2024-02-29T06:08:26.062240Z"
        },
        "id": "ptrqsuYXVmGz"
      },
      "outputs": [],
      "source": [
        "np.linspace(0, 10, 11) # divide [0, 10] interval into 11 points"
      ]
    },
    {
      "cell_type": "markdown",
      "metadata": {
        "id": "q5RbbfkPVmGz"
      },
      "source": [
        "Вы можете легко изменять форму массивов:"
      ]
    },
    {
      "cell_type": "code",
      "execution_count": null,
      "metadata": {
        "execution": {
          "iopub.execute_input": "2024-02-29T06:08:26.186846Z",
          "iopub.status.busy": "2024-02-29T06:08:26.185867Z",
          "iopub.status.idle": "2024-02-29T06:08:26.205168Z",
          "shell.execute_reply": "2024-02-29T06:08:26.204467Z",
          "shell.execute_reply.started": "2024-02-29T06:08:26.186798Z"
        },
        "id": "BLMZZBauVmGz"
      },
      "outputs": [],
      "source": [
        "np.arange(24).reshape(2, 3, 4)"
      ]
    },
    {
      "cell_type": "markdown",
      "metadata": {
        "id": "3RIjqKZvVmG0"
      },
      "source": [
        "Размеры массива автоматически транслируются при выполнении операций:"
      ]
    },
    {
      "cell_type": "code",
      "execution_count": null,
      "metadata": {
        "execution": {
          "iopub.execute_input": "2024-02-29T06:08:26.311551Z",
          "iopub.status.busy": "2024-02-29T06:08:26.310806Z",
          "iopub.status.idle": "2024-02-29T06:08:26.338645Z",
          "shell.execute_reply": "2024-02-29T06:08:26.337983Z",
          "shell.execute_reply.started": "2024-02-29T06:08:26.311506Z"
        },
        "id": "xP7dyvaDVmG0"
      },
      "outputs": [],
      "source": [
        "np.arange(3).reshape(1, 3) - np.arange(3).reshape(3, 1)"
      ]
    },
    {
      "cell_type": "markdown",
      "metadata": {
        "id": "1re1vOtXVmG0"
      },
      "source": [
        "Вы можете использовать трансляцию различными способами. Например, для поэлементного возведения матрицы в степень:"
      ]
    },
    {
      "cell_type": "code",
      "execution_count": null,
      "metadata": {
        "execution": {
          "iopub.execute_input": "2024-03-01T09:03:23.654700Z",
          "iopub.status.busy": "2024-03-01T09:03:23.653894Z",
          "iopub.status.idle": "2024-03-01T09:03:23.689491Z",
          "shell.execute_reply": "2024-03-01T09:03:23.688600Z",
          "shell.execute_reply.started": "2024-03-01T09:03:23.654657Z"
        },
        "tags": [],
        "id": "5qHIZCArVmG0"
      },
      "outputs": [],
      "source": [
        "A = np.array([\n",
        "    [1, 2],\n",
        "    [3, 5]\n",
        "])\n",
        "powers = np.arange(1, 5)\n",
        "\n",
        "A.reshape(1, 2, 2)**powers.reshape(4, 1, 1)"
      ]
    },
    {
      "cell_type": "markdown",
      "metadata": {
        "id": "ObCtmbWsVmG0"
      },
      "source": [
        "Существует также несколько способов объединения массивов. Например, `np.concatenate` объединяет массивы вдоль **существующей** оси:"
      ]
    },
    {
      "cell_type": "code",
      "execution_count": null,
      "metadata": {
        "execution": {
          "iopub.execute_input": "2024-02-29T06:08:26.551625Z",
          "iopub.status.busy": "2024-02-29T06:08:26.550844Z",
          "iopub.status.idle": "2024-02-29T06:08:26.577295Z",
          "shell.execute_reply": "2024-02-29T06:08:26.576549Z",
          "shell.execute_reply.started": "2024-02-29T06:08:26.551577Z"
        },
        "id": "8SNWgBWKVmG0"
      },
      "outputs": [],
      "source": [
        "matrix1 = np.arange(18).reshape(6, 3) # array of shape (6, 3)\n",
        "matrix2 = -np.arange(12).reshape(6, 2) # array of shape (6, 2)\n",
        "\n",
        "np.concatenate([matrix1, matrix2], axis=1) # result of shape (6, 5)"
      ]
    },
    {
      "cell_type": "markdown",
      "metadata": {
        "id": "6QhOfHRPVmG1"
      },
      "source": [
        "В то время как np.stack добавляет новое измерение к результату:"
      ]
    },
    {
      "cell_type": "code",
      "execution_count": null,
      "metadata": {
        "execution": {
          "iopub.execute_input": "2024-02-29T06:08:26.684060Z",
          "iopub.status.busy": "2024-02-29T06:08:26.683351Z",
          "iopub.status.idle": "2024-02-29T06:08:26.714238Z",
          "shell.execute_reply": "2024-02-29T06:08:26.713508Z",
          "shell.execute_reply.started": "2024-02-29T06:08:26.684019Z"
        },
        "id": "DAiaH5UpVmG1"
      },
      "outputs": [],
      "source": [
        "np.stack([\n",
        "    np.arange(5), # array of shape (5,)\n",
        "    np.linspace(0, 1, 5) # array of shape (5,)\n",
        "], axis=1) # result of shape (5, 2)"
      ]
    },
    {
      "cell_type": "markdown",
      "metadata": {
        "id": "0vJDupFqVmG1"
      },
      "source": [
        "Любая матрица может быть легко транспонирована:"
      ]
    },
    {
      "cell_type": "code",
      "execution_count": null,
      "metadata": {
        "execution": {
          "iopub.execute_input": "2024-02-29T06:08:26.820806Z",
          "iopub.status.busy": "2024-02-29T06:08:26.820075Z",
          "iopub.status.idle": "2024-02-29T06:08:26.848229Z",
          "shell.execute_reply": "2024-02-29T06:08:26.847392Z",
          "shell.execute_reply.started": "2024-02-29T06:08:26.820766Z"
        },
        "id": "9xkH1th0VmG1"
      },
      "outputs": [],
      "source": [
        "print(matrix2)\n",
        "print('---')\n",
        "print(matrix2.T)"
      ]
    },
    {
      "cell_type": "code",
      "execution_count": null,
      "metadata": {
        "execution": {
          "iopub.execute_input": "2024-02-29T06:08:26.935101Z",
          "iopub.status.busy": "2024-02-29T06:08:26.933997Z",
          "iopub.status.idle": "2024-02-29T06:08:26.954910Z",
          "shell.execute_reply": "2024-02-29T06:08:26.954113Z",
          "shell.execute_reply.started": "2024-02-29T06:08:26.935053Z"
        },
        "id": "bcasN-nrVmG1"
      },
      "outputs": [],
      "source": [
        "print('matrix2.shape =', matrix2.shape)\n",
        "print('matrix2.T.shape =', matrix2.T.shape)"
      ]
    },
    {
      "cell_type": "code",
      "execution_count": null,
      "metadata": {
        "execution": {
          "iopub.execute_input": "2024-02-29T06:08:27.082180Z",
          "iopub.status.busy": "2024-02-29T06:08:27.081394Z",
          "iopub.status.idle": "2024-02-29T06:08:27.101356Z",
          "shell.execute_reply": "2024-02-29T06:08:27.100554Z",
          "shell.execute_reply.started": "2024-02-29T06:08:27.082140Z"
        },
        "nbgrader": {
          "cell_type": "code",
          "checksum": "8b4d94e9d3bfd99695118273a58f221c",
          "grade": false,
          "grade_id": "cell-7052c430a2292e3f",
          "locked": false,
          "schema_version": 3,
          "solution": true,
          "task": false
        },
        "id": "5WHKUa7eVmG1"
      },
      "outputs": [],
      "source": [
        "# Your turn!\n",
        "# Using the methods you've learned (array initialization,\n",
        "# reshaping and concatenation), write a function that composes\n",
        "# and returns the following matrix:\n",
        "#\n",
        "#              0   7  14  21  28  0  0\n",
        "#              1   8  15  22  29  0  0\n",
        "#              2   9  16  23  30  0  0\n",
        "#              3  10  17  24  31  3  3\n",
        "#              4  11  18  25  32  3  3\n",
        "#              5  12  19  26  33  3  3\n",
        "#              6  13  20  27  34  3  3\n",
        "\n",
        "\n",
        "def compose_matrix():\n",
        "    # your code here\n",
        "    raise NotImplementedError"
      ]
    },
    {
      "cell_type": "code",
      "execution_count": null,
      "metadata": {
        "editable": false,
        "execution": {
          "iopub.execute_input": "2024-02-29T06:08:27.187342Z",
          "iopub.status.busy": "2024-02-29T06:08:27.186582Z",
          "iopub.status.idle": "2024-02-29T06:08:27.225733Z",
          "shell.execute_reply": "2024-02-29T06:08:27.224970Z",
          "shell.execute_reply.started": "2024-02-29T06:08:27.187298Z"
        },
        "nbgrader": {
          "cell_type": "code",
          "checksum": "2b9eb5294e7ca9efe33aaffd7561e7c1",
          "grade": true,
          "grade_id": "ComposeMatrix",
          "locked": true,
          "points": 1,
          "schema_version": 3,
          "solution": false,
          "task": false
        },
        "id": "XO7mKM9SVmG2"
      },
      "outputs": [],
      "source": [
        "np.testing.assert_equal(\n",
        "    compose_matrix(),\n",
        "    np.array([[0,   7,  14,  21,  28,  0,  0],\n",
        "              [1,   8,  15,  22,  29,  0,  0],\n",
        "              [2,   9,  16,  23,  30,  0,  0],\n",
        "              [3,  10,  17,  24,  31,  3,  3],\n",
        "              [4,  11,  18,  25,  32,  3,  3],\n",
        "              [5,  12,  19,  26,  33,  3,  3],\n",
        "              [6,  13,  20,  27,  34,  3,  3]])\n",
        ")"
      ]
    },
    {
      "cell_type": "markdown",
      "metadata": {
        "id": "0esKc6TZVmG2"
      },
      "source": [
        "Линейная алгебра:"
      ]
    },
    {
      "cell_type": "code",
      "execution_count": null,
      "metadata": {
        "execution": {
          "iopub.execute_input": "2024-02-29T06:08:27.313315Z",
          "iopub.status.busy": "2024-02-29T06:08:27.312508Z",
          "iopub.status.idle": "2024-02-29T06:08:27.348865Z",
          "shell.execute_reply": "2024-02-29T06:08:27.348081Z",
          "shell.execute_reply.started": "2024-02-29T06:08:27.313274Z"
        },
        "id": "rYOf1PNyVmG2"
      },
      "outputs": [],
      "source": [
        "a = np.arange(3)\n",
        "B = np.arange(12).reshape(4, 3)\n",
        "print(\"a =\", a)\n",
        "print(\"B =\\n\", B)\n",
        "print(\"Dot product (a*a):\", a @ a) # or: np.dot(a, a)\n",
        "print(\"Matrix-vector (B*a):\", B @ a) # or: np.matmul(B, a)\n",
        "print(\"Matrix-matrix (B*B.T):\\n\", B @ B.T) # or: np.matmul(B, B.T)"
      ]
    },
    {
      "cell_type": "markdown",
      "metadata": {
        "id": "VOwDYGkbVmG2"
      },
      "source": [
        "И огромное колиество прочих математических операций:"
      ]
    },
    {
      "cell_type": "code",
      "execution_count": null,
      "metadata": {
        "execution": {
          "iopub.execute_input": "2024-02-29T06:08:27.435618Z",
          "iopub.status.busy": "2024-02-29T06:08:27.434661Z",
          "iopub.status.idle": "2024-02-29T06:08:27.462560Z",
          "shell.execute_reply": "2024-02-29T06:08:27.461622Z",
          "shell.execute_reply.started": "2024-02-29T06:08:27.435572Z"
        },
        "id": "79WpKxO4VmG2"
      },
      "outputs": [],
      "source": [
        "a = np.array([1,2,3,4,5])\n",
        "b = np.array([5,4,3,2,1])\n",
        "print(\"numpy.sum(a) = \", np.sum(a))\n",
        "print(\"numpy.mean(a) = \", np.mean(a))\n",
        "print(\"numpy.min(a) = \",  np.min(a))\n",
        "print(\"numpy.argmin(b) = \", np.argmin(b))  # index of minimal element\n",
        "print(\"numpy.dot(a,b) = \", np.dot(a, b))      # dot product. Also used for matrix/tensor multiplication\n",
        "print(\"numpy.unique(['male','male','female','female','male']) = \", np.unique(['male','male','female','female','male']))\n",
        "\n",
        "# and tons of other stuff. see http://bit.ly/2u5q430 ."
      ]
    },
    {
      "cell_type": "code",
      "execution_count": null,
      "metadata": {
        "execution": {
          "iopub.execute_input": "2024-02-29T06:08:27.568894Z",
          "iopub.status.busy": "2024-02-29T06:08:27.568200Z",
          "iopub.status.idle": "2024-02-29T06:08:27.610655Z",
          "shell.execute_reply": "2024-02-29T06:08:27.609705Z",
          "shell.execute_reply.started": "2024-02-29T06:08:27.568852Z"
        },
        "id": "YmrKJ8OQVmG3"
      },
      "outputs": [],
      "source": [
        "# most of this functions are also implemented as members of numpy arrays, e.g.:\n",
        "print('a.min() =', a.min())\n",
        "print('a.mean() =', a.mean())"
      ]
    },
    {
      "cell_type": "markdown",
      "source": [
        "# Pandas -  работа с табличными данными"
      ],
      "metadata": {
        "id": "M2E5ZAjNDsHz"
      }
    },
    {
      "cell_type": "markdown",
      "metadata": {
        "id": "K0OYaO-6JXVb"
      },
      "source": [
        "Pandas - это библиотека, которая поможет вам загрузить данные, подготовить их и провести легкий анализ. В качестве основного объекта здесь выступает pandas.DataFrame - двумерная таблица  (на самом деле под капотом работает numpy).\n"
      ]
    },
    {
      "cell_type": "markdown",
      "source": [
        "Загрузим наш датасет:"
      ],
      "metadata": {
        "id": "sdEty1TvM0rq"
      }
    },
    {
      "cell_type": "code",
      "execution_count": null,
      "metadata": {
        "id": "NyJE7OdxESxz"
      },
      "outputs": [],
      "source": [
        "!wget https://raw.githubusercontent.com/HSE-LAMBDA/MLDM-2022/main/01-intro/tabular-playground-series-aug-2022.zip"
      ]
    },
    {
      "cell_type": "code",
      "execution_count": null,
      "metadata": {
        "id": "tMiK_rJcEFLl"
      },
      "outputs": [],
      "source": [
        "!unzip /content/tabular-playground-series-aug-2022.zip -d data"
      ]
    },
    {
      "cell_type": "markdown",
      "metadata": {
        "id": "SOte8Vs8Gp4C"
      },
      "source": [
        "Теперь давайте используем Pandas для чтения данных"
      ]
    },
    {
      "cell_type": "code",
      "execution_count": null,
      "metadata": {
        "id": "G36oVo3RJXVc"
      },
      "outputs": [],
      "source": [
        "import pandas as pd\n",
        "data = pd.read_csv('/content/data/train.csv',\n",
        "                    index_col='id') # this yields a pandas.DataFrame\n",
        "data.index += 1"
      ]
    },
    {
      "cell_type": "code",
      "execution_count": null,
      "metadata": {
        "id": "gEvLO4nvJXVf"
      },
      "outputs": [],
      "source": [
        "# Take a look at the data\n",
        "\n",
        "data.head(5) # selects top 5 lines"
      ]
    },
    {
      "cell_type": "code",
      "execution_count": null,
      "metadata": {
        "id": "SXpNDAgk3N6W"
      },
      "outputs": [],
      "source": [
        "pd.options.display.max_rows = 10\n",
        "data"
      ]
    },
    {
      "cell_type": "code",
      "execution_count": null,
      "metadata": {
        "id": "Zpm0KYxF3jGs"
      },
      "outputs": [],
      "source": [
        "data.sample(5)"
      ]
    },
    {
      "cell_type": "markdown",
      "metadata": {
        "id": "EDHw3sHgJXVj"
      },
      "source": [
        "#### О данных\n",
        "Эти данные представляют собой результаты большого исследования по тестированию продукции. Для каждого `кода_продукта` вам дается ряд `атрибутов` продукта (фиксированных для кода), а также ряд `измерений` для каждого отдельного продукта, представляющих различные методы лабораторных испытаний. Каждый продукт используется в эксперименте, смоделированном в реальной среде, и поглощает определенное количество жидкости (`нагрузка`), чтобы увидеть, не выйдет ли он из строя.\n",
        "\n",
        "Ваша задача - использовать эти данные для прогнозирования `failure` для новых кодов с учетом результатов их лабораторных испытаний. Обучающие данные содержат целевое значение `failure`, и вам нужно предсказать вероятность того, что каждый испытуемый образец получит `failure`."
      ]
    },
    {
      "cell_type": "code",
      "execution_count": null,
      "metadata": {
        "id": "PWmRBFP6JXVl"
      },
      "outputs": [],
      "source": [
        "# table dimensions\n",
        "print(\"len(data) = \", len(data.index))\n",
        "print(\"data.shape = \", data.shape)"
      ]
    },
    {
      "cell_type": "code",
      "execution_count": null,
      "metadata": {
        "id": "dt6itIHBJXVn"
      },
      "outputs": [],
      "source": [
        "# select a single row\n",
        "print(data.loc[4])"
      ]
    },
    {
      "cell_type": "code",
      "execution_count": null,
      "metadata": {
        "id": "wdpiKMr7JXVq"
      },
      "outputs": [],
      "source": [
        "# select a single column.\n",
        "loadings = data[\"loading\"] # alternatively: data.loading\n",
        "print(loadings.loc[:10])"
      ]
    },
    {
      "cell_type": "code",
      "execution_count": null,
      "metadata": {
        "id": "-ao3OhDtJXVu"
      },
      "outputs": [],
      "source": [
        "# select several columns and rows at once\n",
        "data.loc[5:10, (\"loading\", \"failure\")]    # alternatively: data[[\"loading\",\"failure\"]].loc[5:10]"
      ]
    },
    {
      "cell_type": "markdown",
      "metadata": {
        "id": "h7jqzyjLp9qe"
      },
      "source": [
        "### `loc` vs `iloc`"
      ]
    },
    {
      "cell_type": "markdown",
      "metadata": {
        "id": "qR-MSiiiqDB4"
      },
      "source": [
        "В pandas есть два способа индексирования строк:\n",
        "\n",
        "*  по значениям столбцов и индекса (в нашем случае id) - для этого используется data.loc\n",
        "*  по позиционному индексу - для этого используется data.iloc"
      ]
    },
    {
      "cell_type": "markdown",
      "metadata": {
        "id": "uXCOFn0Fqr1M"
      },
      "source": [
        "Обратите внимание, что индексный столбец начинается с 1, поэтому позиционный индекс 0 будет соответствовать значению индексного столбца 1, позиционный 1 - значению индексного столбца 2, и так далее:"
      ]
    },
    {
      "cell_type": "code",
      "execution_count": null,
      "metadata": {
        "id": "PWD9vfcIqjAH"
      },
      "outputs": [],
      "source": [
        "print(data.index)\n",
        "print('------')\n",
        "print(\"data.iloc[0]:\")\n",
        "print(data.iloc[0])\n",
        "print('------')\n",
        "print(\"data.loc[1]:\")\n",
        "print(data.loc[1])"
      ]
    },
    {
      "cell_type": "markdown",
      "metadata": {
        "id": "zqkU4nzfgxok"
      },
      "source": [
        "Также обратите внимание, что при индексировании с помощью `.loc` включаются оба конца среза:"
      ]
    },
    {
      "cell_type": "code",
      "execution_count": null,
      "metadata": {
        "id": "lI0C2cG8g3To"
      },
      "outputs": [],
      "source": [
        "data.loc[2:3]"
      ]
    },
    {
      "cell_type": "markdown",
      "metadata": {
        "id": "kMf9SqMwg7Uw"
      },
      "source": [
        "в то время как при использовании `.iloc` конец исключается:"
      ]
    },
    {
      "cell_type": "code",
      "execution_count": null,
      "metadata": {
        "id": "S5JFLNVag6aP"
      },
      "outputs": [],
      "source": [
        "data.iloc[1:2]"
      ]
    },
    {
      "cell_type": "markdown",
      "metadata": {
        "id": "FJgo08cJi6i6"
      },
      "source": [
        "Более сложная индексация (похожая на булевую индексацию в numpy):"
      ]
    },
    {
      "cell_type": "code",
      "execution_count": null,
      "metadata": {
        "id": "aMkc1lqHPjAo"
      },
      "outputs": [],
      "source": [
        "data.loc[(data['loading'] < 90) & (data['product_code'] == np.random.choice(data.product_code.unique()))]"
      ]
    },
    {
      "cell_type": "code",
      "execution_count": null,
      "metadata": {
        "id": "eyQmIF5Rdngw"
      },
      "outputs": [],
      "source": [
        "data.query('2.1 * measurement_9 < measurement_10 and loading < 111')"
      ]
    },
    {
      "cell_type": "markdown",
      "metadata": {
        "id": "ln3hUck0JXVx"
      },
      "source": [
        "### Your turn:\n"
      ]
    },
    {
      "cell_type": "code",
      "execution_count": null,
      "metadata": {
        "id": "r0surSILJXVy"
      },
      "outputs": [],
      "source": [
        "# select studies number 13 and 666 in a single line - did they fail?\n",
        "\n",
        "print(data.loc[[13, 666], 'failure'])"
      ]
    },
    {
      "cell_type": "code",
      "execution_count": null,
      "metadata": {
        "id": "WfL_YYOVJXV3"
      },
      "outputs": [],
      "source": [
        "# compute the overall fail-rate (what fraction of studies failed)\n",
        "# do we face a balanced train dataset?\n",
        "\n",
        "print(1 - (data['failure'].sum())/len(data.index))"
      ]
    },
    {
      "cell_type": "markdown",
      "metadata": {
        "id": "dZAezJgDJXV8"
      },
      "source": [
        "В Pandas также есть некоторые базовые инструменты анализа данных. Например, вы можете быстро вывести статистические показатели для каждого столбца с помощью `.describe()`."
      ]
    },
    {
      "cell_type": "code",
      "execution_count": null,
      "metadata": {
        "id": "yHtn-GlbJXV8"
      },
      "outputs": [],
      "source": [
        "data.describe()"
      ]
    },
    {
      "cell_type": "markdown",
      "metadata": {
        "id": "hp-OG6bOJXWA"
      },
      "source": [
        "Некоторые столбцы содержат значения __NaN__ - это означает, что в них нет данных. Например, в исследовании `#26565` неизвестно значение `measurement_16`. Чтобы упростить дальнейший анализ данных, мы заменим значения NaN с помощью функции pandas `fillna`.\n",
        "\n",
        "Примечание: мы делаем это, потому что это учебный материал. В общем случае, подумайте дважды, прежде чем изменять данные подобным образом."
      ]
    },
    {
      "cell_type": "code",
      "execution_count": null,
      "metadata": {
        "id": "EHEegWTOJXWK"
      },
      "outputs": [],
      "source": [
        "data['measurement_9'] = data['measurement_9'].fillna(value=data['measurement_9'].mean())\n",
        "data['measurement_16'].fillna(value=data['measurement_16'].mean(), inplace = True)"
      ]
    },
    {
      "cell_type": "code",
      "execution_count": null,
      "metadata": {
        "id": "jSIS7m9RJXWO"
      },
      "outputs": [],
      "source": [
        "data.iloc[26565]"
      ]
    },
    {
      "cell_type": "markdown",
      "metadata": {
        "id": "d_oQnE9JhlWW"
      },
      "source": [
        "### Pandas + numpy"
      ]
    },
    {
      "cell_type": "markdown",
      "metadata": {
        "id": "Wk8fA8HBJXWs"
      },
      "source": [
        "Важная часть: поскольку pandas использует numpy под капотом, большинство функций numpy работает с фреймами данных, поскольку вы можете получить их представление в numpy с помощью `.values` (большинство функций numpy будут работать даже на чистых объектах pandas):"
      ]
    },
    {
      "cell_type": "code",
      "execution_count": null,
      "metadata": {
        "id": "uE53osRgJXWs"
      },
      "outputs": [],
      "source": [
        "# calling np.max on a pure pandas column:\n",
        "column_name = 'measurement_17'\n",
        "print(\"Max {}: \".format(column_name), np.max(data[column_name]))\n",
        "\n",
        "# calling np.argmax on a numpy representation of a pandas column\n",
        "# to get its positional index:\n",
        "print(\"\\nThe study with the max \" + column_name + \":\\n\",\n",
        "      data.iloc[\n",
        "          np.argmax(data[column_name].values)\n",
        "      ])"
      ]
    },
    {
      "cell_type": "code",
      "execution_count": null,
      "metadata": {
        "id": "X5l90RFPN6SL"
      },
      "outputs": [],
      "source": [
        "# numpy works only with positional index:\n",
        "column_name = 'measurement_16'\n",
        "print(data[column_name].values.argmax())\n",
        "#     ^^^^^^^^^^^^^^^^^^^\n",
        "#     this part returns a numpy array, argmax of which we are calculating\n",
        "\n",
        "\n",
        "# in pandas you can ask for the index (i.e. value of the index column)\n",
        "# of the maximal element like this:\n",
        "print(data[column_name].idxmax())"
      ]
    },
    {
      "cell_type": "markdown",
      "metadata": {
        "id": "T_xqJK6UJXW6"
      },
      "source": [
        "### Your turn\n",
        "\n",
        "Use numpy and pandas to answer a few questions about data"
      ]
    },
    {
      "cell_type": "code",
      "execution_count": null,
      "metadata": {
        "id": "p7O68NpyJXWw"
      },
      "outputs": [],
      "source": [
        "# your code: compute mean loading and find max one.\n",
        "\n",
        "#YOUR CODE"
      ]
    },
    {
      "cell_type": "code",
      "execution_count": null,
      "metadata": {
        "id": "EyDEaifrJXW8"
      },
      "outputs": [],
      "source": [
        "# which product code is more likely to fail?\n",
        "prod_names = data.product_code.unique()\n",
        "print(prod_names)\n",
        "#YOUR CODE"
      ]
    },
    {
      "cell_type": "markdown",
      "source": [
        "# Графики"
      ],
      "metadata": {
        "id": "Dd1-3Ix1WLVG"
      }
    },
    {
      "cell_type": "markdown",
      "source": [
        "В настоящее время наиболее актуальным выбором являются библиотеки Matplotlib и Plotly."
      ],
      "metadata": {
        "id": "G8pV2XuWWk3_"
      }
    },
    {
      "cell_type": "code",
      "source": [
        "import matplotlib.pyplot as plt\n",
        "%matplotlib inline\n",
        "\n",
        "import plotly.graph_objects as go"
      ],
      "metadata": {
        "id": "UKvHPeTzWZv4"
      },
      "execution_count": null,
      "outputs": []
    },
    {
      "cell_type": "code",
      "source": [
        "n_points = 5\n",
        "x = np.arange(n_points)\n",
        "y = x**2\n",
        "\n",
        "print(\"x =\", x)\n",
        "print(\"x**2 =\", y)\n",
        "print(\"plotting x**2 vs x:\")\n",
        "\n",
        "\n",
        "plt.scatter(x, y)\n",
        "plt.show()  # show the first plot to begin drawing the next one\n",
        "\n",
        "fig = go.Figure()\n",
        "fig.add_trace(go.Scatter(x=x, y=y, mode='markers'))\n",
        "fig.show()"
      ],
      "metadata": {
        "id": "lYme-lELWjPH"
      },
      "execution_count": null,
      "outputs": []
    },
    {
      "cell_type": "code",
      "source": [
        "# histogram - showing data density\n",
        "float_cols = [c for c in data.columns if data[c].dtype == float]\n",
        "\n",
        "_, axs = plt.subplots(2, 4, figsize=(10,5))\n",
        "\n",
        "for f, ax in zip(float_cols[:8], axs.ravel()):\n",
        "    bins = np.linspace(min(data[f]), max(data[f]), 50)\n",
        "    ax.hist(data[f], bins=bins, density=True)\n",
        "    ax.set_xlabel(f)\n",
        "\n",
        "plt.tight_layout(w_pad=1)\n",
        "plt.suptitle('Distributions of the continuous features', fontsize=15, y=1.12)\n",
        "plt.show()"
      ],
      "metadata": {
        "id": "JhlDe4erXt8B"
      },
      "execution_count": null,
      "outputs": []
    },
    {
      "cell_type": "code",
      "source": [
        "# .plot() method allows you to plot in different styles\n",
        "data.product_code.value_counts().plot(kind='pie', autopct=\"%1.1f%%\",shadow=True,\n",
        "        startangle=45, explode=[0.065] * data.product_code.nunique());"
      ],
      "metadata": {
        "id": "xXjnRFDBYlen"
      },
      "execution_count": null,
      "outputs": []
    },
    {
      "cell_type": "markdown",
      "source": [
        "#Машинное обучение c  scikit-learn"
      ],
      "metadata": {
        "id": "GRc2mexvb2DT"
      }
    },
    {
      "cell_type": "markdown",
      "source": [
        "Scikit-learn - это инструмент для создания простых конвейеров машинного обучения.\n",
        "\n",
        "Это единая библиотека, которая объединяет множество моделей под общим интерфейсом:\n",
        "\n",
        "Create:__ model = sklearn.whatever.ModelNameHere(parameters_if_any)__.\n",
        "\n",
        "Train:__ model.fit(X,y)__\n",
        "\n",
        "Predict:__ model.predict(X_test)__.\n",
        "\n",
        "В нем также есть утилиты для извлечения признаков, оценки качества или кросс-валидации.\n"
      ],
      "metadata": {
        "id": "aa4VDUPbdwVJ"
      }
    },
    {
      "cell_type": "markdown",
      "source": [
        "#K-nearest neighbors"
      ],
      "metadata": {
        "id": "VQ6F-k6sMvDb"
      }
    },
    {
      "cell_type": "code",
      "source": [
        "from sklearn.neighbors import KNeighborsClassifier\n",
        "from sklearn.metrics import accuracy_score\n",
        "from sklearn.model_selection import train_test_split\n",
        "\n",
        "\n",
        "x = data[float_cols].fillna(0).copy()\n",
        "y = data[\"failure\"]\n",
        "\n",
        "model = KNeighborsClassifier(n_neighbors=5)\n",
        "\n",
        "# split the data into train(90%) and test(10%)\n",
        "X_train, X_test, y_train, y_test = train_test_split( x, y, test_size=0.1, random_state=42)\n",
        "\n",
        "\n",
        "# fit the model\n",
        "model.fit(X_train,  y_train)\n",
        "\n",
        "# make the prediction\n",
        "test_predictions = model.predict(X_test)\n",
        "print(\"Test accuracy:\", accuracy_score(y_test, test_predictions))\n"
      ],
      "metadata": {
        "id": "ylonJGJ-dv1F"
      },
      "execution_count": null,
      "outputs": []
    },
    {
      "cell_type": "markdown",
      "source": [
        "# Линейная регрессия"
      ],
      "metadata": {
        "id": "bEiKE6iTNATj"
      }
    },
    {
      "cell_type": "markdown",
      "metadata": {
        "id": "zHoDZiwJsHlW"
      },
      "source": [
        "## y = kx + b"
      ]
    },
    {
      "cell_type": "markdown",
      "metadata": {
        "id": "k8DvsrrgfPxC"
      },
      "source": [
        "Начнем с одномерного случая, где истиная зависимость будет иметь вид:\n",
        "$$y=k\\cdot x+b+\\text{noise}$$"
      ]
    },
    {
      "cell_type": "code",
      "execution_count": null,
      "metadata": {
        "id": "mKRgT8hyxRm_"
      },
      "outputs": [],
      "source": [
        "def linear_function(x):\n",
        "  return 0.33 * x + 8.3\n",
        "\n",
        "def gen_dataset(N, func, lims=(-1., 1.), noise_lvl=0.2):\n",
        "  x = np.random.uniform(*lims, size=N)\n",
        "  y = func(x) + noise_lvl * np.random.normal(size=x.shape)\n",
        "  return x[:,None], y\n",
        "\n",
        "X, y = gen_dataset(50, linear_function)\n",
        "x = np.linspace(-1, 1, 101)\n",
        "plt.plot(x, linear_function(x))\n",
        "plt.scatter(X, y);"
      ]
    },
    {
      "cell_type": "code",
      "source": [
        "from sklearn.linear_model import LinearRegression\n",
        "\n",
        "model = LinearRegression()\n",
        "\n",
        "model.fit(X, y)\n",
        "\n",
        "x = np.linspace(-1, 1, 101)\n",
        "plt.plot(x, linear_function(x), label='true function')\n",
        "plt.scatter(X, y);\n",
        "plt.plot(x, model.predict(x[:,None]), label='prediction')\n",
        "plt.legend()\n",
        "\n",
        "print(model.coef_, model.intercept_)"
      ],
      "metadata": {
        "id": "PQ0G-b1gNld1"
      },
      "execution_count": null,
      "outputs": []
    },
    {
      "cell_type": "markdown",
      "source": [
        "А что если случай более сложный?"
      ],
      "metadata": {
        "id": "XyLeRFP9Nz84"
      }
    },
    {
      "cell_type": "code",
      "source": [
        "def true_function(x):\n",
        "  return np.sin(3 * x + 0.8) + np.sin(1. / (x + 1.23))"
      ],
      "metadata": {
        "id": "MJbvD3fEN2jY"
      },
      "execution_count": null,
      "outputs": []
    },
    {
      "cell_type": "code",
      "source": [
        "model = LinearRegression()\n",
        "X, y = gen_dataset(25, true_function)\n",
        "\n",
        "model.fit(X, y)\n",
        "\n",
        "x = np.linspace(-1, 1, 101)\n",
        "plt.plot(x, true_function(x), label='true function')\n",
        "plt.scatter(X, y);\n",
        "plt.plot(x, model.predict(x[:,None]), label='prediction')\n",
        "plt.legend();"
      ],
      "metadata": {
        "id": "290c_a01N4ra"
      },
      "execution_count": null,
      "outputs": []
    },
    {
      "cell_type": "markdown",
      "source": [
        "На самом деле, даже довольно сложные задачи можно решать простыми алгоритмами, если есть глубокое понимание этой самой задачи!\n",
        "В данном случае может помочь конструирование искуственных фичей!\n",
        "Для удобства работы мы будем цепочку обработки данных помещать в pipeline."
      ],
      "metadata": {
        "id": "KdPW1LLaki1L"
      }
    },
    {
      "cell_type": "markdown",
      "metadata": {
        "id": "WbESfwRuAZD7"
      },
      "source": [
        "\n",
        "$$X'=\n",
        "\\begin{pmatrix}\n",
        "x_1 & (x_1)^2 & \\ldots & (x_1)^k \\\\\n",
        "x_2 & (x_2)^2 & \\ldots & (x_2)^k \\\\\n",
        "\\vdots & \\vdots & \\ddots & \\vdots \\\\\n",
        "x_N & (x_N)^2 & \\ldots & (x_N)^k\n",
        "\\end{pmatrix},\n",
        "$$"
      ]
    },
    {
      "cell_type": "code",
      "source": [
        "from sklearn.preprocessing import PolynomialFeatures\n",
        "from sklearn.pipeline import make_pipeline\n",
        "\n",
        "poly_expand = PolynomialFeatures(3)\n",
        "poly_expand.fit_transform(np.arange(5)[:,None])"
      ],
      "metadata": {
        "id": "vGzb_9t9ONC1"
      },
      "execution_count": null,
      "outputs": []
    },
    {
      "cell_type": "code",
      "source": [
        "# The first parameter is the power of expansion. Try playing around with it.\n",
        "poly_expand = PolynomialFeatures(1, include_bias=False)\n",
        "linear_model = LinearRegression()\n",
        "model = make_pipeline(\n",
        "    poly_expand, linear_model\n",
        ")\n",
        "\n",
        "model.fit(X, y)\n",
        "\n",
        "x = np.linspace(-1, 1, 101)\n",
        "plt.plot(x, true_function(x), label='true function')\n",
        "plt.scatter(X, y);\n",
        "plt.plot(x, model.predict(x[:,None]), label='prediction')\n",
        "plt.ylim(y.min() - 0.5, y.max() + 0.5)\n",
        "plt.legend();"
      ],
      "metadata": {
        "id": "DFb-Lzf_OYQ6"
      },
      "execution_count": null,
      "outputs": []
    },
    {
      "cell_type": "markdown",
      "source": [
        "# Рассмотрим более сложный датасет - Boston Housing"
      ],
      "metadata": {
        "id": "ch02J82OTSq8"
      }
    },
    {
      "cell_type": "markdown",
      "source": [
        " Variables in order:\n",
        "\n",
        " CRIM     per capita crime rate by town\n",
        "\n",
        " ZN       proportion of residential land zoned for lots over 25,000 sq.ft.\n",
        "\n",
        " INDUS    proportion of non-retail business acres per town\n",
        "\n",
        " CHAS     Charles River dummy variable (= 1 if tract bounds river; 0 otherwise)\n",
        "\n",
        " NOX      nitric oxides concentration (parts per 10 million)\n",
        "\n",
        " RM       average number of rooms per dwelling\n",
        "\n",
        " AGE      proportion of owner-occupied units built prior to 1940\n",
        "\n",
        " DIS      weighted distances to five Boston employment centres\n",
        "\n",
        " RAD      index of accessibility to radial highways\n",
        "\n",
        " TAX      full-value property-tax rate per $10,000\n",
        "\n",
        " PTRATIO  pupil-teacher ratio by town\n",
        "\n",
        " B        1000(Bk - 0.63)^2 where Bk is the proportion of blacks by town\n",
        "\n",
        " LSTAT    % lower status of the population\n",
        "\n",
        " MEDV     Median value of owner-occupied homes in $1000's"
      ],
      "metadata": {
        "id": "j_45zg9ATZVR"
      }
    },
    {
      "cell_type": "code",
      "source": [
        "!wget https://raw.githubusercontent.com/selva86/datasets/master/BostonHousing.csv"
      ],
      "metadata": {
        "id": "2GfG7pVOTBan"
      },
      "execution_count": null,
      "outputs": []
    },
    {
      "cell_type": "code",
      "source": [
        "raw_df = pd.read_csv('BostonHousing.csv')\n",
        "print(raw_df.head())\n",
        "\n",
        "y = raw_df['medv']\n",
        "X = raw_df.drop('medv', axis=1)"
      ],
      "metadata": {
        "id": "AcBTRXCjTN0h"
      },
      "execution_count": null,
      "outputs": []
    },
    {
      "cell_type": "markdown",
      "source": [
        "Мы хотим предсказать MEDV - цену жилья, исходя из остальных показателей. Оценим зависимость целевой переменной от фичей:"
      ],
      "metadata": {
        "id": "WxgH2RvcUctF"
      }
    },
    {
      "cell_type": "code",
      "source": [
        "plt.figure(figsize=(15, 15))\n",
        "\n",
        "grid_size = int(np.ceil(X.shape[1]**0.5))\n",
        "\n",
        "for i, (name, x) in enumerate(X.items(), 1):\n",
        "  plt.subplot(grid_size, grid_size, i)\n",
        "  plt.scatter(x, y)\n",
        "  plt.xlabel(name)"
      ],
      "metadata": {
        "id": "B23777cUT19l"
      },
      "execution_count": null,
      "outputs": []
    },
    {
      "cell_type": "code",
      "source": [
        "from sklearn.linear_model import LinearRegression\n",
        "from sklearn.pipeline import make_pipeline\n",
        "from sklearn.preprocessing import PolynomialFeatures\n",
        "from sklearn.metrics import mean_squared_error"
      ],
      "metadata": {
        "id": "OHcoswiGUhDP"
      },
      "execution_count": null,
      "outputs": []
    },
    {
      "cell_type": "markdown",
      "source": [
        "Выберем 3 наиболее удачных фичи и порстроим модель с их использованием."
      ],
      "metadata": {
        "id": "RPWJ4rILksnh"
      }
    },
    {
      "cell_type": "code",
      "source": [
        "old_columns = X.columns\n",
        "print(old_columns)\n",
        "X.columns = [column.upper() for column in X.columns]"
      ],
      "metadata": {
        "id": "kAHQERKTUmG2"
      },
      "execution_count": null,
      "outputs": []
    },
    {
      "cell_type": "code",
      "source": [
        "columns = [\"CRIM\", \"RM\", \"LSTAT\"]\n",
        "\n",
        "X_subset = X[columns]\n",
        "X_subset /= X_subset.max()"
      ],
      "metadata": {
        "id": "aGr9HhJfUniF"
      },
      "execution_count": null,
      "outputs": []
    },
    {
      "cell_type": "code",
      "source": [
        "model = make_pipeline(\n",
        "    PolynomialFeatures(9, include_bias=False), # Can you calculate how many features this will result in? :)\n",
        "    LinearRegression()\n",
        ")\n",
        "\n",
        "model.fit(X_subset, y)\n",
        "print('mse = ', mean_squared_error(y, model.predict(X_subset)))\n",
        "\n",
        "plt.figure(figsize=(15, 4))\n",
        "for i, c in enumerate(columns, 1):\n",
        "  plt.subplot(1, len(columns), i)\n",
        "  plt.scatter(X[c], y, label='data')\n",
        "  plt.scatter(X[c], model.predict(X_subset), label='prediction')\n",
        "  plt.legend()"
      ],
      "metadata": {
        "id": "BqQb9wNuU1TL"
      },
      "execution_count": null,
      "outputs": []
    },
    {
      "cell_type": "markdown",
      "source": [
        "На сколько это хорошо? На вид здорово, а что на самом деле?"
      ],
      "metadata": {
        "id": "q_RcE2DIVSls"
      }
    },
    {
      "cell_type": "markdown",
      "source": [
        "# Train-Test split"
      ],
      "metadata": {
        "id": "cX1X0b0kVYr0"
      }
    },
    {
      "cell_type": "code",
      "source": [
        "from sklearn.model_selection import train_test_split"
      ],
      "metadata": {
        "id": "RtP_SwCVVRZC"
      },
      "execution_count": null,
      "outputs": []
    },
    {
      "cell_type": "code",
      "source": [
        "X_train, X_test, y_train, y_test = train_test_split(X_subset, y, test_size=50, random_state=39)\n",
        "\n",
        "model = make_pipeline(\n",
        "    PolynomialFeatures(9, include_bias=False),\n",
        "    LinearRegression()\n",
        ")\n",
        "\n",
        "model.fit(X_train, y_train)\n",
        "\n",
        "print('train mse = ', mean_squared_error(y_train, model.predict(X_train)))\n",
        "print('test mse = ', mean_squared_error(y_test, model.predict(X_test)))"
      ],
      "metadata": {
        "id": "z6kq3otcVf3U"
      },
      "execution_count": null,
      "outputs": []
    },
    {
      "cell_type": "markdown",
      "source": [
        "WAT?!"
      ],
      "metadata": {
        "id": "cscBaUaDVpf9"
      }
    },
    {
      "cell_type": "code",
      "source": [
        "plt.figure(figsize=(15, 4))\n",
        "for i, c in enumerate(columns, 1):\n",
        "  plt.subplot(1, len(columns), i)\n",
        "  plt.scatter(X_test[c], y_test, label='data')\n",
        "  plt.scatter(X_test[c], model.predict(X_test), label='prediction')\n",
        "  plt.legend()"
      ],
      "metadata": {
        "id": "XrsFRAHYVmQm"
      },
      "execution_count": null,
      "outputs": []
    },
    {
      "cell_type": "markdown",
      "source": [
        "Может что-то не то с коэффициентами?"
      ],
      "metadata": {
        "id": "LrEJiXIyVznq"
      }
    },
    {
      "cell_type": "code",
      "source": [
        "model.named_steps['linearregression'].coef_"
      ],
      "metadata": {
        "id": "4BEK4aRVVysn"
      },
      "execution_count": null,
      "outputs": []
    },
    {
      "cell_type": "markdown",
      "metadata": {
        "id": "47w2yMDTa3jw"
      },
      "source": [
        "# L2 regularization (ridge regression)"
      ]
    },
    {
      "cell_type": "markdown",
      "metadata": {
        "id": "DFqxu7Cia9PG"
      },
      "source": [
        "Let's regularize the solution!"
      ]
    },
    {
      "cell_type": "code",
      "execution_count": null,
      "metadata": {
        "id": "HJd9IDwkf0b_"
      },
      "outputs": [],
      "source": [
        "from sklearn.linear_model import Ridge"
      ]
    },
    {
      "cell_type": "code",
      "execution_count": null,
      "metadata": {
        "id": "8mPbo3d8gG-w"
      },
      "outputs": [],
      "source": [
        "model = make_pipeline(\n",
        "    PolynomialFeatures(9, include_bias=False),\n",
        "    Ridge(alpha=1.)\n",
        ")\n",
        "\n",
        "model.fit(X_train, y_train)\n",
        "\n",
        "print('train mse = ', mean_squared_error(y_train, model.predict(X_train)))\n",
        "print('test mse = ', mean_squared_error(y_test, model.predict(X_test)))"
      ]
    },
    {
      "cell_type": "code",
      "execution_count": null,
      "metadata": {
        "id": "QGKHmwLNk2wU"
      },
      "outputs": [],
      "source": [
        "plt.figure(figsize=(15, 4))\n",
        "for i, c in enumerate(columns, 1):\n",
        "  plt.subplot(1, len(columns), i)\n",
        "  plt.scatter(X_test[c], y_test, label='data')\n",
        "  plt.scatter(X_test[c], model.predict(X_test), label='prediction')\n",
        "  plt.legend()"
      ]
    },
    {
      "cell_type": "code",
      "execution_count": null,
      "metadata": {
        "id": "bxmdOpYJbN3V"
      },
      "outputs": [],
      "source": [
        "model.named_steps['ridge'].coef_"
      ]
    },
    {
      "cell_type": "markdown",
      "metadata": {
        "id": "8xHvB9VIbxrP"
      },
      "source": [
        "Now we'll study how losses and parameter values depend on the regularization power."
      ]
    },
    {
      "cell_type": "code",
      "execution_count": null,
      "metadata": {
        "id": "KLn0yQe2nwOw"
      },
      "outputs": [],
      "source": [
        "from tqdm import tqdm"
      ]
    },
    {
      "cell_type": "code",
      "execution_count": null,
      "metadata": {
        "id": "XjQwZ0g4jSkq"
      },
      "outputs": [],
      "source": [
        "reg_powers = np.logspace(-12, 5, 18 * 5, base=10)\n",
        "\n",
        "\n",
        "train_mse = []\n",
        "test_mse = []\n",
        "\n",
        "params = []\n",
        "\n",
        "for alpha in tqdm(reg_powers):\n",
        "  linear_model = Ridge(alpha=alpha)\n",
        "  model = make_pipeline(\n",
        "    PolynomialFeatures(9, include_bias=False),\n",
        "    linear_model\n",
        "  )\n",
        "  model.fit(X_train, y_train)\n",
        "\n",
        "  params.append(\n",
        "      np.append(linear_model.coef_,\n",
        "                linear_model.intercept_)\n",
        "  )\n",
        "\n",
        "  train_mse.append(mean_squared_error(y_train, model.predict(X_train)))\n",
        "  test_mse.append(mean_squared_error(y_test, model.predict(X_test)))\n",
        "\n",
        "params = np.array(params)\n",
        "\n",
        "\n",
        "plt.figure(figsize=(12, 5))\n",
        "\n",
        "plt.subplot(1, 2, 1)\n",
        "\n",
        "plt.plot(1. / reg_powers, train_mse, label='train')\n",
        "plt.plot(1. / reg_powers, test_mse, label='test')\n",
        "plt.ylabel('MSE')\n",
        "plt.xlabel('inverse regularization power')\n",
        "plt.legend()\n",
        "plt.xscale('log')\n",
        "plt.yscale('log')\n",
        "\n",
        "plt.subplot(1, 2, 2)\n",
        "plt.plot(1. / reg_powers, np.abs(params));\n",
        "plt.xlabel(\"inverse regularization power\")\n",
        "plt.ylabel(\"parameter magnitude\")\n",
        "plt.xscale('log')\n",
        "plt.yscale('log')"
      ]
    },
    {
      "cell_type": "markdown",
      "metadata": {
        "id": "0f1cCilVcouK"
      },
      "source": [
        "# L1 regularization (lasso regression)"
      ]
    },
    {
      "cell_type": "markdown",
      "metadata": {
        "id": "7S0rCyOBcvou"
      },
      "source": [
        "Here's a similar study with the Lasso regression:"
      ]
    },
    {
      "cell_type": "code",
      "execution_count": null,
      "metadata": {
        "id": "0JAYVacvm-CT"
      },
      "outputs": [],
      "source": [
        "from sklearn.linear_model import Lasso"
      ]
    },
    {
      "cell_type": "code",
      "execution_count": null,
      "metadata": {
        "id": "eX6mAO5_oIvR"
      },
      "outputs": [],
      "source": [
        "reg_powers = np.logspace(-4, 1, 6 * 5, base=10)\n",
        "\n",
        "train_mse = []\n",
        "test_mse = []\n",
        "\n",
        "params = []\n",
        "\n",
        "for alpha in tqdm(reg_powers):\n",
        "  # Lasso doesn't have an analytic solution. Instead it\n",
        "  # utilizes an iterative procedure, which for small\n",
        "  # alpha values may take a while to converge.\n",
        "  linear_model = Lasso(alpha=alpha, max_iter=1000000)\n",
        "  model = make_pipeline(\n",
        "    PolynomialFeatures(9, include_bias=False),\n",
        "    linear_model\n",
        "  )\n",
        "  model.fit(X_train, y_train)\n",
        "\n",
        "  params.append(\n",
        "      np.append(linear_model.coef_,\n",
        "                linear_model.intercept_)\n",
        "  )\n",
        "\n",
        "  train_mse.append(mean_squared_error(y_train, model.predict(X_train)))\n",
        "  test_mse.append(mean_squared_error(y_test, model.predict(X_test)))\n",
        "\n",
        "params = np.array(params)\n",
        "\n",
        "plt.figure(figsize=(18, 5))\n",
        "\n",
        "plt.subplot(1, 3, 1)\n",
        "\n",
        "plt.plot(1. / reg_powers, train_mse, label='train')\n",
        "plt.plot(1. / reg_powers, test_mse, label='test')\n",
        "plt.ylabel('MSE')\n",
        "plt.xlabel('inverse regularization power')\n",
        "plt.legend()\n",
        "plt.xscale('log')\n",
        "\n",
        "plt.subplot(1, 3, 2)\n",
        "plt.plot(1. / reg_powers, np.abs(params));\n",
        "plt.xlabel(\"inverse regularization power\")\n",
        "plt.ylabel(\"parameter magnitude\")\n",
        "plt.xscale('log')\n",
        "plt.yscale('log')\n",
        "\n",
        "plt.subplot(1, 3, 3)\n",
        "plt.plot(1. / reg_powers, np.isclose(params, 0.).sum(axis=1));\n",
        "plt.xlabel(\"inverse regularization power\")\n",
        "plt.ylabel(\"# zero parameters\")\n",
        "plt.xscale('log')"
      ]
    },
    {
      "cell_type": "markdown",
      "source": [
        "#Самостоятельная работа:\n",
        "Для отработки пройденного материала очень полезно проверить свои силы на отдельном задании:\n",
        "https://github.com/PlaZMaD/GP_ML_2025/blob/main/Seminar_2_HW.ipynb\n",
        "\n",
        "В этот раз проверка производиться не будет, все остается на вашей совести.\n",
        "\n"
      ],
      "metadata": {
        "id": "Oqdpq2wKfsSs"
      }
    }
  ]
}